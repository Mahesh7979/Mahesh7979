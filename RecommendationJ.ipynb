{
  "cells": [
    {
      "cell_type": "markdown",
      "metadata": {
        "id": "view-in-github",
        "colab_type": "text"
      },
      "source": [
        "<a href=\"https://colab.research.google.com/github/Mahesh7979/Mahesh7979/blob/main/RecommendationJ.ipynb\" target=\"_parent\"><img src=\"https://colab.research.google.com/assets/colab-badge.svg\" alt=\"Open In Colab\"/></a>"
      ]
    },
    {
      "cell_type": "markdown",
      "source": [
        "[internships.datalabs.info](https://internships.datalabs.info)\n",
        "\n",
        "\n",
        "### Internship on \"Data Science\" at InfraBIM Techno Solutions\n",
        "#### Project - JOB RECOMMENDATION SYSTEM"
      ],
      "metadata": {
        "id": "OBtUIm-Q6p0c"
      },
      "id": "OBtUIm-Q6p0c"
    },
    {
      "cell_type": "markdown",
      "source": [
        "Name: P Mahesh Babu <br>\n",
        "Email Id: mahesh9949644@gmail.com <br>\n",
        "\n",
        "Date:"
      ],
      "metadata": {
        "id": "fNBQxrFl6xqD"
      },
      "id": "fNBQxrFl6xqD"
    },
    {
      "cell_type": "markdown",
      "source": [
        "#Problem Statement\n",
        "##Problem:\n",
        "The job market is vast and ever-changing, making it difficult for job seekers to find the right opportunities. At the same time, employers are struggling to find qualified candidates for their open positions.<br>\n",
        "##Solution:\n",
        "A job recommendation system can help to bridge this gap by matching job seekers with the right opportunities. The system would use machine learning to analyze job seeker profiles and job openings, and then generate personalized recommendations for each user."
      ],
      "metadata": {
        "id": "83kVFlz264mD"
      },
      "id": "83kVFlz264mD"
    },
    {
      "cell_type": "markdown",
      "source": [
        "#Table of Contents\n",
        "1. [Import Packages ](#scrollTo=10c281ba&line=2&uniqifier=1)\n",
        "2. [Load Dataset](#scrollTo=U338ZrzF6i6V&line=1&uniqifier=1)\n",
        "3. [Exploratory Data Analysis (EDA)](#scrollTo=7dPit8cb3WDZ&line=1&uniqifier=1)"
      ],
      "metadata": {
        "id": "ESBuejGy68mW"
      },
      "id": "ESBuejGy68mW"
    },
    {
      "cell_type": "markdown",
      "source": [
        "#1. Importing the required packages [[Top](#scrollTo=ESBuejGy68mW&line=6&uniqifier=1)]"
      ],
      "metadata": {
        "id": "INudvzvi7j2j"
      },
      "id": "INudvzvi7j2j"
    },
    {
      "cell_type": "code",
      "execution_count": 4,
      "id": "10c281ba",
      "metadata": {
        "id": "10c281ba"
      },
      "outputs": [],
      "source": [
        "import numpy as np\n",
        "import pandas as pd"
      ]
    },
    {
      "cell_type": "markdown",
      "source": [
        "#2. Load dataset [[Top](#scrollTo=ESBuejGy68mW&line=6&uniqifier=1)]"
      ],
      "metadata": {
        "id": "74sMaJai7H7J"
      },
      "id": "74sMaJai7H7J"
    },
    {
      "cell_type": "code",
      "source": [
        "from google.colab import drive\n",
        "drive.mount('/content/drive')"
      ],
      "metadata": {
        "colab": {
          "base_uri": "https://localhost:8080/"
        },
        "id": "WX8bBC90vC3k",
        "outputId": "5b8b46ce-e112-4b30-adbf-0ecb8d96d332"
      },
      "id": "WX8bBC90vC3k",
      "execution_count": 5,
      "outputs": [
        {
          "output_type": "stream",
          "name": "stdout",
          "text": [
            "Drive already mounted at /content/drive; to attempt to forcibly remount, call drive.mount(\"/content/drive\", force_remount=True).\n"
          ]
        }
      ]
    },
    {
      "cell_type": "code",
      "source": [
        "path=\"/content/csv/Combined_Jobs_Final.csv\"\n",
        "j = pd.read_csv(path)"
      ],
      "metadata": {
        "id": "U338ZrzF6i6V"
      },
      "id": "U338ZrzF6i6V",
      "execution_count": 15,
      "outputs": []
    },
    {
      "cell_type": "markdown",
      "source": [
        "#3. Exploratory Data Analysis (EDA)[[Top](#scrollTo=ESBuejGy68mW&line=6&uniqifier=1)]"
      ],
      "metadata": {
        "id": "V7rv43EM7M9e"
      },
      "id": "V7rv43EM7M9e"
    },
    {
      "cell_type": "code",
      "source": [
        "j.head(2)"
      ],
      "metadata": {
        "colab": {
          "base_uri": "https://localhost:8080/",
          "height": 300
        },
        "id": "7dPit8cb3WDZ",
        "outputId": "a1484a31-e214-40e2-869f-813751062c29"
      },
      "id": "7dPit8cb3WDZ",
      "execution_count": 16,
      "outputs": [
        {
          "output_type": "execute_result",
          "data": {
            "text/plain": [
              "   Job.ID  Provider Status                                             Slug  \\\n",
              "0     111         1   open                  palo-alto-ca-tacolicious-server   \n",
              "1     113         1   open  san-francisco-ca-claude-lane-kitchen-staff-chef   \n",
              "\n",
              "                              Title            Position      Company  \\\n",
              "0              Server @ Tacolicious              Server  Tacolicious   \n",
              "1  Kitchen Staff/Chef @ Claude Lane  Kitchen Staff/Chef  Claude Lane   \n",
              "\n",
              "            City  State.Name State.Code  ...            Industry  \\\n",
              "0      Palo Alto  California         CA  ...  Food and Beverages   \n",
              "1  San Francisco  California         CA  ...  Food and Beverages   \n",
              "\n",
              "                                     Job.Description  Requirements Salary  \\\n",
              "0  Tacolicious' first Palo Alto store just opened...           NaN    8.0   \n",
              "1   \\r\\n\\r\\nNew French Brasserie in S.F. Financia...           NaN    0.0   \n",
              "\n",
              "  Listing.Start  Listing.End  Employment.Type Education.Required  \\\n",
              "0           NaN          NaN        Part-Time                NaN   \n",
              "1           NaN          NaN        Part-Time                NaN   \n",
              "\n",
              "                Created.At               Updated.At  \n",
              "0  2013-03-12 02:08:28 UTC  2014-08-16 15:35:36 UTC  \n",
              "1  2013-04-12 08:36:36 UTC  2014-08-16 15:35:36 UTC  \n",
              "\n",
              "[2 rows x 23 columns]"
            ],
            "text/html": [
              "\n",
              "  <div id=\"df-437bc7c2-4db6-42f8-9cd4-0e880f02f2e7\" class=\"colab-df-container\">\n",
              "    <div>\n",
              "<style scoped>\n",
              "    .dataframe tbody tr th:only-of-type {\n",
              "        vertical-align: middle;\n",
              "    }\n",
              "\n",
              "    .dataframe tbody tr th {\n",
              "        vertical-align: top;\n",
              "    }\n",
              "\n",
              "    .dataframe thead th {\n",
              "        text-align: right;\n",
              "    }\n",
              "</style>\n",
              "<table border=\"1\" class=\"dataframe\">\n",
              "  <thead>\n",
              "    <tr style=\"text-align: right;\">\n",
              "      <th></th>\n",
              "      <th>Job.ID</th>\n",
              "      <th>Provider</th>\n",
              "      <th>Status</th>\n",
              "      <th>Slug</th>\n",
              "      <th>Title</th>\n",
              "      <th>Position</th>\n",
              "      <th>Company</th>\n",
              "      <th>City</th>\n",
              "      <th>State.Name</th>\n",
              "      <th>State.Code</th>\n",
              "      <th>...</th>\n",
              "      <th>Industry</th>\n",
              "      <th>Job.Description</th>\n",
              "      <th>Requirements</th>\n",
              "      <th>Salary</th>\n",
              "      <th>Listing.Start</th>\n",
              "      <th>Listing.End</th>\n",
              "      <th>Employment.Type</th>\n",
              "      <th>Education.Required</th>\n",
              "      <th>Created.At</th>\n",
              "      <th>Updated.At</th>\n",
              "    </tr>\n",
              "  </thead>\n",
              "  <tbody>\n",
              "    <tr>\n",
              "      <th>0</th>\n",
              "      <td>111</td>\n",
              "      <td>1</td>\n",
              "      <td>open</td>\n",
              "      <td>palo-alto-ca-tacolicious-server</td>\n",
              "      <td>Server @ Tacolicious</td>\n",
              "      <td>Server</td>\n",
              "      <td>Tacolicious</td>\n",
              "      <td>Palo Alto</td>\n",
              "      <td>California</td>\n",
              "      <td>CA</td>\n",
              "      <td>...</td>\n",
              "      <td>Food and Beverages</td>\n",
              "      <td>Tacolicious' first Palo Alto store just opened...</td>\n",
              "      <td>NaN</td>\n",
              "      <td>8.0</td>\n",
              "      <td>NaN</td>\n",
              "      <td>NaN</td>\n",
              "      <td>Part-Time</td>\n",
              "      <td>NaN</td>\n",
              "      <td>2013-03-12 02:08:28 UTC</td>\n",
              "      <td>2014-08-16 15:35:36 UTC</td>\n",
              "    </tr>\n",
              "    <tr>\n",
              "      <th>1</th>\n",
              "      <td>113</td>\n",
              "      <td>1</td>\n",
              "      <td>open</td>\n",
              "      <td>san-francisco-ca-claude-lane-kitchen-staff-chef</td>\n",
              "      <td>Kitchen Staff/Chef @ Claude Lane</td>\n",
              "      <td>Kitchen Staff/Chef</td>\n",
              "      <td>Claude Lane</td>\n",
              "      <td>San Francisco</td>\n",
              "      <td>California</td>\n",
              "      <td>CA</td>\n",
              "      <td>...</td>\n",
              "      <td>Food and Beverages</td>\n",
              "      <td>\\r\\n\\r\\nNew French Brasserie in S.F. Financia...</td>\n",
              "      <td>NaN</td>\n",
              "      <td>0.0</td>\n",
              "      <td>NaN</td>\n",
              "      <td>NaN</td>\n",
              "      <td>Part-Time</td>\n",
              "      <td>NaN</td>\n",
              "      <td>2013-04-12 08:36:36 UTC</td>\n",
              "      <td>2014-08-16 15:35:36 UTC</td>\n",
              "    </tr>\n",
              "  </tbody>\n",
              "</table>\n",
              "<p>2 rows × 23 columns</p>\n",
              "</div>\n",
              "    <div class=\"colab-df-buttons\">\n",
              "\n",
              "  <div class=\"colab-df-container\">\n",
              "    <button class=\"colab-df-convert\" onclick=\"convertToInteractive('df-437bc7c2-4db6-42f8-9cd4-0e880f02f2e7')\"\n",
              "            title=\"Convert this dataframe to an interactive table.\"\n",
              "            style=\"display:none;\">\n",
              "\n",
              "  <svg xmlns=\"http://www.w3.org/2000/svg\" height=\"24px\" viewBox=\"0 -960 960 960\">\n",
              "    <path d=\"M120-120v-720h720v720H120Zm60-500h600v-160H180v160Zm220 220h160v-160H400v160Zm0 220h160v-160H400v160ZM180-400h160v-160H180v160Zm440 0h160v-160H620v160ZM180-180h160v-160H180v160Zm440 0h160v-160H620v160Z\"/>\n",
              "  </svg>\n",
              "    </button>\n",
              "\n",
              "  <style>\n",
              "    .colab-df-container {\n",
              "      display:flex;\n",
              "      gap: 12px;\n",
              "    }\n",
              "\n",
              "    .colab-df-convert {\n",
              "      background-color: #E8F0FE;\n",
              "      border: none;\n",
              "      border-radius: 50%;\n",
              "      cursor: pointer;\n",
              "      display: none;\n",
              "      fill: #1967D2;\n",
              "      height: 32px;\n",
              "      padding: 0 0 0 0;\n",
              "      width: 32px;\n",
              "    }\n",
              "\n",
              "    .colab-df-convert:hover {\n",
              "      background-color: #E2EBFA;\n",
              "      box-shadow: 0px 1px 2px rgba(60, 64, 67, 0.3), 0px 1px 3px 1px rgba(60, 64, 67, 0.15);\n",
              "      fill: #174EA6;\n",
              "    }\n",
              "\n",
              "    .colab-df-buttons div {\n",
              "      margin-bottom: 4px;\n",
              "    }\n",
              "\n",
              "    [theme=dark] .colab-df-convert {\n",
              "      background-color: #3B4455;\n",
              "      fill: #D2E3FC;\n",
              "    }\n",
              "\n",
              "    [theme=dark] .colab-df-convert:hover {\n",
              "      background-color: #434B5C;\n",
              "      box-shadow: 0px 1px 3px 1px rgba(0, 0, 0, 0.15);\n",
              "      filter: drop-shadow(0px 1px 2px rgba(0, 0, 0, 0.3));\n",
              "      fill: #FFFFFF;\n",
              "    }\n",
              "  </style>\n",
              "\n",
              "    <script>\n",
              "      const buttonEl =\n",
              "        document.querySelector('#df-437bc7c2-4db6-42f8-9cd4-0e880f02f2e7 button.colab-df-convert');\n",
              "      buttonEl.style.display =\n",
              "        google.colab.kernel.accessAllowed ? 'block' : 'none';\n",
              "\n",
              "      async function convertToInteractive(key) {\n",
              "        const element = document.querySelector('#df-437bc7c2-4db6-42f8-9cd4-0e880f02f2e7');\n",
              "        const dataTable =\n",
              "          await google.colab.kernel.invokeFunction('convertToInteractive',\n",
              "                                                    [key], {});\n",
              "        if (!dataTable) return;\n",
              "\n",
              "        const docLinkHtml = 'Like what you see? Visit the ' +\n",
              "          '<a target=\"_blank\" href=https://colab.research.google.com/notebooks/data_table.ipynb>data table notebook</a>'\n",
              "          + ' to learn more about interactive tables.';\n",
              "        element.innerHTML = '';\n",
              "        dataTable['output_type'] = 'display_data';\n",
              "        await google.colab.output.renderOutput(dataTable, element);\n",
              "        const docLink = document.createElement('div');\n",
              "        docLink.innerHTML = docLinkHtml;\n",
              "        element.appendChild(docLink);\n",
              "      }\n",
              "    </script>\n",
              "  </div>\n",
              "\n",
              "\n",
              "<div id=\"df-495a2ffc-4da6-4686-a4da-c9beefd222d9\">\n",
              "  <button class=\"colab-df-quickchart\" onclick=\"quickchart('df-495a2ffc-4da6-4686-a4da-c9beefd222d9')\"\n",
              "            title=\"Suggest charts\"\n",
              "            style=\"display:none;\">\n",
              "\n",
              "<svg xmlns=\"http://www.w3.org/2000/svg\" height=\"24px\"viewBox=\"0 0 24 24\"\n",
              "     width=\"24px\">\n",
              "    <g>\n",
              "        <path d=\"M19 3H5c-1.1 0-2 .9-2 2v14c0 1.1.9 2 2 2h14c1.1 0 2-.9 2-2V5c0-1.1-.9-2-2-2zM9 17H7v-7h2v7zm4 0h-2V7h2v10zm4 0h-2v-4h2v4z\"/>\n",
              "    </g>\n",
              "</svg>\n",
              "  </button>\n",
              "\n",
              "<style>\n",
              "  .colab-df-quickchart {\n",
              "      --bg-color: #E8F0FE;\n",
              "      --fill-color: #1967D2;\n",
              "      --hover-bg-color: #E2EBFA;\n",
              "      --hover-fill-color: #174EA6;\n",
              "      --disabled-fill-color: #AAA;\n",
              "      --disabled-bg-color: #DDD;\n",
              "  }\n",
              "\n",
              "  [theme=dark] .colab-df-quickchart {\n",
              "      --bg-color: #3B4455;\n",
              "      --fill-color: #D2E3FC;\n",
              "      --hover-bg-color: #434B5C;\n",
              "      --hover-fill-color: #FFFFFF;\n",
              "      --disabled-bg-color: #3B4455;\n",
              "      --disabled-fill-color: #666;\n",
              "  }\n",
              "\n",
              "  .colab-df-quickchart {\n",
              "    background-color: var(--bg-color);\n",
              "    border: none;\n",
              "    border-radius: 50%;\n",
              "    cursor: pointer;\n",
              "    display: none;\n",
              "    fill: var(--fill-color);\n",
              "    height: 32px;\n",
              "    padding: 0;\n",
              "    width: 32px;\n",
              "  }\n",
              "\n",
              "  .colab-df-quickchart:hover {\n",
              "    background-color: var(--hover-bg-color);\n",
              "    box-shadow: 0 1px 2px rgba(60, 64, 67, 0.3), 0 1px 3px 1px rgba(60, 64, 67, 0.15);\n",
              "    fill: var(--button-hover-fill-color);\n",
              "  }\n",
              "\n",
              "  .colab-df-quickchart-complete:disabled,\n",
              "  .colab-df-quickchart-complete:disabled:hover {\n",
              "    background-color: var(--disabled-bg-color);\n",
              "    fill: var(--disabled-fill-color);\n",
              "    box-shadow: none;\n",
              "  }\n",
              "\n",
              "  .colab-df-spinner {\n",
              "    border: 2px solid var(--fill-color);\n",
              "    border-color: transparent;\n",
              "    border-bottom-color: var(--fill-color);\n",
              "    animation:\n",
              "      spin 1s steps(1) infinite;\n",
              "  }\n",
              "\n",
              "  @keyframes spin {\n",
              "    0% {\n",
              "      border-color: transparent;\n",
              "      border-bottom-color: var(--fill-color);\n",
              "      border-left-color: var(--fill-color);\n",
              "    }\n",
              "    20% {\n",
              "      border-color: transparent;\n",
              "      border-left-color: var(--fill-color);\n",
              "      border-top-color: var(--fill-color);\n",
              "    }\n",
              "    30% {\n",
              "      border-color: transparent;\n",
              "      border-left-color: var(--fill-color);\n",
              "      border-top-color: var(--fill-color);\n",
              "      border-right-color: var(--fill-color);\n",
              "    }\n",
              "    40% {\n",
              "      border-color: transparent;\n",
              "      border-right-color: var(--fill-color);\n",
              "      border-top-color: var(--fill-color);\n",
              "    }\n",
              "    60% {\n",
              "      border-color: transparent;\n",
              "      border-right-color: var(--fill-color);\n",
              "    }\n",
              "    80% {\n",
              "      border-color: transparent;\n",
              "      border-right-color: var(--fill-color);\n",
              "      border-bottom-color: var(--fill-color);\n",
              "    }\n",
              "    90% {\n",
              "      border-color: transparent;\n",
              "      border-bottom-color: var(--fill-color);\n",
              "    }\n",
              "  }\n",
              "</style>\n",
              "\n",
              "  <script>\n",
              "    async function quickchart(key) {\n",
              "      const quickchartButtonEl =\n",
              "        document.querySelector('#' + key + ' button');\n",
              "      quickchartButtonEl.disabled = true;  // To prevent multiple clicks.\n",
              "      quickchartButtonEl.classList.add('colab-df-spinner');\n",
              "      try {\n",
              "        const charts = await google.colab.kernel.invokeFunction(\n",
              "            'suggestCharts', [key], {});\n",
              "      } catch (error) {\n",
              "        console.error('Error during call to suggestCharts:', error);\n",
              "      }\n",
              "      quickchartButtonEl.classList.remove('colab-df-spinner');\n",
              "      quickchartButtonEl.classList.add('colab-df-quickchart-complete');\n",
              "    }\n",
              "    (() => {\n",
              "      let quickchartButtonEl =\n",
              "        document.querySelector('#df-495a2ffc-4da6-4686-a4da-c9beefd222d9 button');\n",
              "      quickchartButtonEl.style.display =\n",
              "        google.colab.kernel.accessAllowed ? 'block' : 'none';\n",
              "    })();\n",
              "  </script>\n",
              "</div>\n",
              "    </div>\n",
              "  </div>\n"
            ]
          },
          "metadata": {},
          "execution_count": 16
        }
      ]
    },
    {
      "cell_type": "code",
      "source": [
        "j.shape"
      ],
      "metadata": {
        "colab": {
          "base_uri": "https://localhost:8080/"
        },
        "id": "ya3p2qh43knI",
        "outputId": "44643575-0f98-49ee-cafa-ab1b00cea7dc"
      },
      "id": "ya3p2qh43knI",
      "execution_count": 17,
      "outputs": [
        {
          "output_type": "execute_result",
          "data": {
            "text/plain": [
              "(84090, 23)"
            ]
          },
          "metadata": {},
          "execution_count": 17
        }
      ]
    },
    {
      "cell_type": "markdown",
      "source": [
        "reducing the csv for convenience"
      ],
      "metadata": {
        "id": "fjIzhqialZai"
      },
      "id": "fjIzhqialZai"
    },
    {
      "cell_type": "code",
      "source": [
        "j = j.sample(n=1000,random_state=42)"
      ],
      "metadata": {
        "id": "U7_H46o_3n3S"
      },
      "id": "U7_H46o_3n3S",
      "execution_count": 18,
      "outputs": []
    },
    {
      "cell_type": "code",
      "source": [
        "j.shape"
      ],
      "metadata": {
        "colab": {
          "base_uri": "https://localhost:8080/"
        },
        "id": "0uixcS_t3rX9",
        "outputId": "309d70dc-543c-4b04-d20f-e41d8a152aee"
      },
      "id": "0uixcS_t3rX9",
      "execution_count": 19,
      "outputs": [
        {
          "output_type": "execute_result",
          "data": {
            "text/plain": [
              "(1000, 23)"
            ]
          },
          "metadata": {},
          "execution_count": 19
        }
      ]
    },
    {
      "cell_type": "code",
      "source": [
        "j= j[['Status', 'Title', 'Position', 'Company', 'Job.Description']]"
      ],
      "metadata": {
        "id": "Gx9gye-54IQX"
      },
      "id": "Gx9gye-54IQX",
      "execution_count": 20,
      "outputs": []
    },
    {
      "cell_type": "code",
      "source": [
        "\n",
        "\n",
        "from nltk.corpus import stopwords\n",
        "import nltk\n",
        "import re\n",
        "from nltk.stem.porter import PorterStemmer\n",
        "ps = PorterStemmer()"
      ],
      "metadata": {
        "id": "qEaJD1TB3s4z"
      },
      "id": "qEaJD1TB3s4z",
      "execution_count": 21,
      "outputs": []
    },
    {
      "cell_type": "markdown",
      "source": [
        "cleaning"
      ],
      "metadata": {
        "id": "o55bouR5lezc"
      },
      "id": "o55bouR5lezc"
    },
    {
      "cell_type": "code",
      "source": [
        "\n",
        "def cleaning(txt):\n",
        "#     for text digits and some \\s\\n\n",
        "    txt = re.sub(r'[^a-zA-Z0-9\\s]','',txt)\n",
        "#     for tokenize and lower case\n",
        "    tokens = nltk.word_tokenize(txt.lower())\n",
        "#     for stemming and stopwords\n",
        "    stemming = [ps.stem(w) for w in tokens if w not in stopwords.words('english')]\n",
        "    return \" \".join(stemming)\n"
      ],
      "metadata": {
        "id": "t0qbd7pI3u9g"
      },
      "id": "t0qbd7pI3u9g",
      "execution_count": 22,
      "outputs": []
    },
    {
      "cell_type": "code",
      "source": [
        "import nltk\n",
        "nltk.download('punkt')\n",
        "import nltk\n",
        "nltk.download('stopwords')"
      ],
      "metadata": {
        "colab": {
          "base_uri": "https://localhost:8080/"
        },
        "id": "ivaaMSlCWAMZ",
        "outputId": "e2605837-a1c7-4eb8-fec6-a08b9bd6869b"
      },
      "id": "ivaaMSlCWAMZ",
      "execution_count": 23,
      "outputs": [
        {
          "output_type": "stream",
          "name": "stderr",
          "text": [
            "[nltk_data] Downloading package punkt to /root/nltk_data...\n",
            "[nltk_data]   Unzipping tokenizers/punkt.zip.\n",
            "[nltk_data] Downloading package stopwords to /root/nltk_data...\n",
            "[nltk_data]   Unzipping corpora/stopwords.zip.\n"
          ]
        },
        {
          "output_type": "execute_result",
          "data": {
            "text/plain": [
              "True"
            ]
          },
          "metadata": {},
          "execution_count": 23
        }
      ]
    },
    {
      "cell_type": "code",
      "source": [
        "cleaning(\"\\n\\rhelo the master piece is my loving moving cat @9032#%$\")"
      ],
      "metadata": {
        "colab": {
          "base_uri": "https://localhost:8080/",
          "height": 35
        },
        "id": "wiR2wd3O3xzt",
        "outputId": "7d678b8d-aa01-463c-9b9b-784215e8f28b"
      },
      "id": "wiR2wd3O3xzt",
      "execution_count": 24,
      "outputs": [
        {
          "output_type": "execute_result",
          "data": {
            "text/plain": [
              "'helo master piec love move cat 9032'"
            ],
            "application/vnd.google.colaboratory.intrinsic+json": {
              "type": "string"
            }
          },
          "metadata": {},
          "execution_count": 24
        }
      ]
    },
    {
      "cell_type": "code",
      "source": [
        "j['Job.Description'] = j['Job.Description'].astype(str).apply(lambda x: cleaning(x))\n",
        "j['Title'] = j['Title'].astype(str).apply(lambda x: cleaning(x))\n",
        "j['Position'] = j['Position'].astype(str).apply(lambda x: cleaning(x))"
      ],
      "metadata": {
        "id": "BKPPWK-g397G"
      },
      "id": "BKPPWK-g397G",
      "execution_count": 25,
      "outputs": []
    },
    {
      "cell_type": "code",
      "source": [
        "j['clean_text'] = j['Job.Description']+\" \"+j['Title']+j['Position']"
      ],
      "metadata": {
        "id": "oUzoManb4OPx"
      },
      "id": "oUzoManb4OPx",
      "execution_count": 26,
      "outputs": []
    },
    {
      "cell_type": "code",
      "source": [
        "j['clean_text'][64119]"
      ],
      "metadata": {
        "colab": {
          "base_uri": "https://localhost:8080/",
          "height": 139
        },
        "id": "uvCzKoyA4YDz",
        "outputId": "ff4508bf-0654-4d1a-a481-15226d3d0b6e"
      },
      "id": "uvCzKoyA4YDz",
      "execution_count": 27,
      "outputs": [
        {
          "output_type": "execute_result",
          "data": {
            "text/plain": [
              "'job summari knowledg univers ku site director site leader inspir children teacher alik learn grow passion educ excel confid teach children adult use nation recogn curriculum framework creat uniqu engag classroom experi commit make site success know meaning relationship children famili team import success fulli engag enthusiast work eager share knowledg other job respons essenti function basic expect site director cours creativ new way meet exceed expect encourag long requir essenti function also met supervis children staff record keep licens record child file lesson plan implement mainten safe welcom classroom environ build relationship commun school recruit new student program applic must strong organiz skill site director knowledg universsite director'"
            ],
            "application/vnd.google.colaboratory.intrinsic+json": {
              "type": "string"
            }
          },
          "metadata": {},
          "execution_count": 27
        }
      ]
    },
    {
      "cell_type": "markdown",
      "source": [
        "Vectorization"
      ],
      "metadata": {
        "id": "dwx3iY1PlyLz"
      },
      "id": "dwx3iY1PlyLz"
    },
    {
      "cell_type": "code",
      "source": [
        "from sklearn.feature_extraction.text import TfidfVectorizer\n",
        "from sklearn.metrics.pairwise import cosine_similarity"
      ],
      "metadata": {
        "id": "kd-d93HJ4arj"
      },
      "id": "kd-d93HJ4arj",
      "execution_count": 28,
      "outputs": []
    },
    {
      "cell_type": "code",
      "source": [
        "\n",
        "tfidf = TfidfVectorizer(stop_words='english')\n",
        "matrix = tfidf.fit_transform(j['clean_text'])\n",
        "similarity = cosine_similarity(matrix)"
      ],
      "metadata": {
        "id": "XKCS6kP44c8_"
      },
      "id": "XKCS6kP44c8_",
      "execution_count": 29,
      "outputs": []
    },
    {
      "cell_type": "code",
      "source": [
        "\n",
        "similarity"
      ],
      "metadata": {
        "colab": {
          "base_uri": "https://localhost:8080/"
        },
        "id": "C7XNjgd34e4g",
        "outputId": "7b3a1f40-f4d2-4b47-ee06-5e7348fdbb4d"
      },
      "id": "C7XNjgd34e4g",
      "execution_count": 30,
      "outputs": [
        {
          "output_type": "execute_result",
          "data": {
            "text/plain": [
              "array([[1.        , 0.04322045, 0.02131549, ..., 0.05101897, 0.02496253,\n",
              "        0.08044478],\n",
              "       [0.04322045, 1.        , 0.02936862, ..., 0.03617188, 0.00565445,\n",
              "        0.02613043],\n",
              "       [0.02131549, 0.02936862, 1.        , ..., 0.05498817, 0.02959363,\n",
              "        0.04218737],\n",
              "       ...,\n",
              "       [0.05101897, 0.03617188, 0.05498817, ..., 1.        , 0.05915732,\n",
              "        0.11128466],\n",
              "       [0.02496253, 0.00565445, 0.02959363, ..., 0.05915732, 1.        ,\n",
              "        0.38569354],\n",
              "       [0.08044478, 0.02613043, 0.04218737, ..., 0.11128466, 0.38569354,\n",
              "        1.        ]])"
            ]
          },
          "metadata": {},
          "execution_count": 30
        }
      ]
    },
    {
      "cell_type": "code",
      "source": [
        "sorted(list(enumerate(similarity[0])), key=lambda x: x[1], reverse=True)[1:20]"
      ],
      "metadata": {
        "colab": {
          "base_uri": "https://localhost:8080/"
        },
        "id": "ZAehqMT24g1V",
        "outputId": "38d771bb-89b8-4813-de54-5a9c7d8f826e"
      },
      "id": "ZAehqMT24g1V",
      "execution_count": 31,
      "outputs": [
        {
          "output_type": "execute_result",
          "data": {
            "text/plain": [
              "[(276, 0.9733772868873092),\n",
              " (730, 0.5181424118134745),\n",
              " (81, 0.49306292063609425),\n",
              " (917, 0.49306292063609425),\n",
              " (252, 0.2585811153172217),\n",
              " (128, 0.24712958824951992),\n",
              " (360, 0.23664048105861918),\n",
              " (825, 0.21870641716425473),\n",
              " (629, 0.2088881569389071),\n",
              " (38, 0.18257068622788095),\n",
              " (245, 0.1796380318454525),\n",
              " (114, 0.17263108553231282),\n",
              " (254, 0.16811344897738498),\n",
              " (298, 0.1446572732370542),\n",
              " (59, 0.14241842988596462),\n",
              " (940, 0.13972634715716156),\n",
              " (195, 0.1368714545586078),\n",
              " (284, 0.13625519998756502),\n",
              " (965, 0.13588092414113367)]"
            ]
          },
          "metadata": {},
          "execution_count": 31
        }
      ]
    },
    {
      "cell_type": "code",
      "source": [
        "def recommend(title):\n",
        "\n",
        "        indx = j[j['Title'] == title].index[0]\n",
        "        indx = j.index.get_loc(indx)\n",
        "        distances = sorted(list(enumerate(similarity[indx])), key=lambda x: x[1], reverse=True)[1:20]\n",
        "\n",
        "        jobs = []\n",
        "        for i in distances:\n",
        "            jobs.append(j.iloc[i[0]].Title)\n",
        "        return jobs\n"
      ],
      "metadata": {
        "id": "u9wTFhZo4jfF"
      },
      "id": "u9wTFhZo4jfF",
      "execution_count": 32,
      "outputs": []
    },
    {
      "cell_type": "code",
      "source": [
        "recommend('site director knowledg univers')"
      ],
      "metadata": {
        "colab": {
          "base_uri": "https://localhost:8080/"
        },
        "id": "kkvO6UvF4mC2",
        "outputId": "4733c190-e8e3-48ae-aaec-bc1fa442603c"
      },
      "id": "kkvO6UvF4mC2",
      "execution_count": 33,
      "outputs": [
        {
          "output_type": "execute_result",
          "data": {
            "text/plain": [
              "['site director knowledg univers educ llc',\n",
              " 'teacher knowledg univers',\n",
              " 'assist teacher knowledg univers',\n",
              " 'assist teacher knowledg univers',\n",
              " 'cook knowledg univers',\n",
              " 'immedi open assist teacher la petit academi',\n",
              " 'summer school age assist children courtyard',\n",
              " 'hvac instructor vatterott educ center',\n",
              " 'temporari coordin site oper macyscom maci',\n",
              " 'fellowship program coordin connecticut children medic center',\n",
              " 'medic offic assist instructor concord career colleg inc',\n",
              " 'youth camp residenti assist activ coordin new york ny el educ servic',\n",
              " 'pharmaci adjunct instructor brown macki colleg',\n",
              " 'secur offic regular securita usa',\n",
              " 'secur offic 100000 job coalit securita usa',\n",
              " 'school day camp counselor ii ymca greenvil',\n",
              " 'faculti call zenith educ group',\n",
              " 'faculti support specialist zenith educ group',\n",
              " 'handbag sell specialist part time bloomingdal chevi chase md bloomingdal']"
            ]
          },
          "metadata": {},
          "execution_count": 33
        }
      ]
    },
    {
      "cell_type": "code",
      "source": [
        "import pickle\n",
        "pickle.dump(j,open('/df','wb'))\n",
        "pickle.dump(similarity,open('/similarity','wb'))"
      ],
      "metadata": {
        "id": "zwlMPgLj4nvl"
      },
      "id": "zwlMPgLj4nvl",
      "execution_count": 34,
      "outputs": []
    },
    {
      "cell_type": "code",
      "source": [
        "df_l=pickle.load(open('/df','rb'))"
      ],
      "metadata": {
        "id": "1F-U7A-o4ptD"
      },
      "id": "1F-U7A-o4ptD",
      "execution_count": 40,
      "outputs": []
    },
    {
      "cell_type": "code",
      "source": [
        "sim_l=pickle.load(open('/similarity','rb'))"
      ],
      "metadata": {
        "id": "IwTLdWJxab--"
      },
      "id": "IwTLdWJxab--",
      "execution_count": 36,
      "outputs": []
    },
    {
      "cell_type": "code",
      "source": [
        "recommend('site director knowledg univers')"
      ],
      "metadata": {
        "id": "8JXaifi4a0uo",
        "colab": {
          "base_uri": "https://localhost:8080/"
        },
        "outputId": "04c6a2d7-809a-42e8-d2f0-8de88e7a1656"
      },
      "id": "8JXaifi4a0uo",
      "execution_count": 37,
      "outputs": [
        {
          "output_type": "execute_result",
          "data": {
            "text/plain": [
              "['site director knowledg univers educ llc',\n",
              " 'teacher knowledg univers',\n",
              " 'assist teacher knowledg univers',\n",
              " 'assist teacher knowledg univers',\n",
              " 'cook knowledg univers',\n",
              " 'immedi open assist teacher la petit academi',\n",
              " 'summer school age assist children courtyard',\n",
              " 'hvac instructor vatterott educ center',\n",
              " 'temporari coordin site oper macyscom maci',\n",
              " 'fellowship program coordin connecticut children medic center',\n",
              " 'medic offic assist instructor concord career colleg inc',\n",
              " 'youth camp residenti assist activ coordin new york ny el educ servic',\n",
              " 'pharmaci adjunct instructor brown macki colleg',\n",
              " 'secur offic regular securita usa',\n",
              " 'secur offic 100000 job coalit securita usa',\n",
              " 'school day camp counselor ii ymca greenvil',\n",
              " 'faculti call zenith educ group',\n",
              " 'faculti support specialist zenith educ group',\n",
              " 'handbag sell specialist part time bloomingdal chevi chase md bloomingdal']"
            ]
          },
          "metadata": {},
          "execution_count": 37
        }
      ]
    },
    {
      "cell_type": "code",
      "source": [
        "! pip install streamlit -q"
      ],
      "metadata": {
        "id": "SbYwPZsreHdR",
        "colab": {
          "base_uri": "https://localhost:8080/"
        },
        "outputId": "ba382d91-45df-444b-be05-f9e3e2b31dcd"
      },
      "id": "SbYwPZsreHdR",
      "execution_count": 38,
      "outputs": [
        {
          "output_type": "stream",
          "name": "stdout",
          "text": [
            "\u001b[2K     \u001b[90m━━━━━━━━━━━━━━━━━━━━━━━━━━━━━━━━━━━━━━━━\u001b[0m \u001b[32m8.4/8.4 MB\u001b[0m \u001b[31m34.6 MB/s\u001b[0m eta \u001b[36m0:00:00\u001b[0m\n",
            "\u001b[2K     \u001b[90m━━━━━━━━━━━━━━━━━━━━━━━━━━━━━━━━━━━━━━━━\u001b[0m \u001b[32m190.6/190.6 kB\u001b[0m \u001b[31m20.4 MB/s\u001b[0m eta \u001b[36m0:00:00\u001b[0m\n",
            "\u001b[2K     \u001b[90m━━━━━━━━━━━━━━━━━━━━━━━━━━━━━━━━━━━━━━━━\u001b[0m \u001b[32m4.8/4.8 MB\u001b[0m \u001b[31m89.5 MB/s\u001b[0m eta \u001b[36m0:00:00\u001b[0m\n",
            "\u001b[2K     \u001b[90m━━━━━━━━━━━━━━━━━━━━━━━━━━━━━━━━━━━━━━━━\u001b[0m \u001b[32m82.1/82.1 kB\u001b[0m \u001b[31m9.0 MB/s\u001b[0m eta \u001b[36m0:00:00\u001b[0m\n",
            "\u001b[2K     \u001b[90m━━━━━━━━━━━━━━━━━━━━━━━━━━━━━━━━━━━━━━━━\u001b[0m \u001b[32m62.7/62.7 kB\u001b[0m \u001b[31m6.6 MB/s\u001b[0m eta \u001b[36m0:00:00\u001b[0m\n",
            "\u001b[?25h"
          ]
        }
      ]
    },
    {
      "cell_type": "code",
      "source": [
        "import streamlit as st\n",
        "import pandas as pd\n",
        "import pickle\n",
        "df = pickle.load(open('df.pkl','rb'))\n",
        "similarity = pickle.load(open('similarity.pkl','rb'))"
      ],
      "metadata": {
        "id": "UDJkneFfT-Eq"
      },
      "id": "UDJkneFfT-Eq",
      "execution_count": 45,
      "outputs": []
    },
    {
      "cell_type": "code",
      "source": [
        "!wget -q -O - ipv4.icanhazip.com"
      ],
      "metadata": {
        "colab": {
          "base_uri": "https://localhost:8080/"
        },
        "id": "6zFJwp9MbqKu",
        "outputId": "548c7160-f691-48f7-e68a-4e2d0c9b6e94"
      },
      "id": "6zFJwp9MbqKu",
      "execution_count": 46,
      "outputs": [
        {
          "output_type": "stream",
          "name": "stdout",
          "text": [
            "35.222.180.196\n"
          ]
        }
      ]
    },
    {
      "cell_type": "code",
      "source": [
        "! streamlit run app.py & npx localtunnel --port 8501"
      ],
      "metadata": {
        "colab": {
          "base_uri": "https://localhost:8080/"
        },
        "id": "dkFToeAqbsLy",
        "outputId": "84465b84-35f2-46ce-89ce-597125fe5ffb"
      },
      "id": "dkFToeAqbsLy",
      "execution_count": null,
      "outputs": [
        {
          "output_type": "stream",
          "name": "stdout",
          "text": [
            "[..................] - rollbackFailedOptional: verb npm-session 7131d529318dd6d\u001b[0m\u001b[K\n",
            "Collecting usage statistics. To deactivate, set browser.gatherUsageStats to False.\n",
            "\u001b[0m\n",
            "\u001b[K\u001b[?25hnpx: installed 22 in 6.264s\n",
            "your url is: https://full-teeth-swim.loca.lt\n",
            "\u001b[0m\n",
            "\u001b[34m\u001b[1m  You can now view your Streamlit app in your browser.\u001b[0m\n",
            "\u001b[0m\n",
            "\u001b[34m  Network URL: \u001b[0m\u001b[1mhttp://172.28.0.12:8501\u001b[0m\n",
            "\u001b[34m  External URL: \u001b[0m\u001b[1mhttp://35.222.180.196:8501\u001b[0m\n",
            "\u001b[0m\n"
          ]
        }
      ]
    },
    {
      "cell_type": "code",
      "source": [],
      "metadata": {
        "id": "Qp8k92Fhasw_"
      },
      "id": "Qp8k92Fhasw_",
      "execution_count": null,
      "outputs": []
    }
  ],
  "metadata": {
    "kernelspec": {
      "display_name": "Python 3 (ipykernel)",
      "language": "python",
      "name": "python3"
    },
    "language_info": {
      "codemirror_mode": {
        "name": "ipython",
        "version": 3
      },
      "file_extension": ".py",
      "mimetype": "text/x-python",
      "name": "python",
      "nbconvert_exporter": "python",
      "pygments_lexer": "ipython3",
      "version": "3.11.5"
    },
    "colab": {
      "provenance": [],
      "include_colab_link": true
    }
  },
  "nbformat": 4,
  "nbformat_minor": 5
}